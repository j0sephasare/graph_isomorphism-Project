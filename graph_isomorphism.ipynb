{
 "cells": [
  {
   "cell_type": "markdown",
   "id": "f6661cf1",
   "metadata": {},
   "source": [
    "# Introduction To The Graph Isomorphism Problem"
   ]
  },
  {
   "cell_type": "markdown",
   "id": "56eb3018",
   "metadata": {},
   "source": [
    "___________________________________________________________________________"
   ]
  },
  {
   "cell_type": "markdown",
   "id": "08fef5e0",
   "metadata": {},
   "source": [
    "\n",
    "The graph-isomorphism problem is the way to determine if two finite graphs are isomorphic. But before I get into details about that I must talk about what these terms mean in graph theory in relation to the graph-isomorphism problem."
   ]
  },
  {
   "cell_type": "markdown",
   "id": "f36f6736",
   "metadata": {},
   "source": [
    "* Graph Theory: The term Graphy Theory is a branch of mathematetics that is used for visualizing data and relationships between objects. This is shown by visualizing endpoints also know as vertices or nodes connected to each other via edges. A graph consists of lines and points between them the length of the lines do not matter and each object in a graph is called a node. \n",
    "[[1]](https://www.masterclass.com/articles/graph-theory)"
   ]
  },
  {
   "cell_type": "markdown",
   "id": "7312a252",
   "metadata": {},
   "source": [
    "* Vertex: Nodes can also be called a vertex which is shown on a graph as a point. The plural of Vertex is Virtices \n",
    "[[2]](https://www.splashlearn.com/math-vocabulary/geometry/vertex#:~:text=Vertex%20is%20a%20point%20on,of%20a%20vertex%20is%20vertices.)"
   ]
  },
  {
   "cell_type": "markdown",
   "id": "7859c2a0",
   "metadata": {},
   "source": [
    "* Edges: Edges are a connection between the nodes or vertices of said object [[3]](https://mathinsight.org/definition/network_edge#:~:text=An%20edge%20(or%20link)%20of,in%20the%20first%20figure%20below.)"
   ]
  },
  {
   "cell_type": "markdown",
   "id": "ca597c65",
   "metadata": {},
   "source": [
    "### Diagram of graph showing 5 vertices and 7 edges"
   ]
  },
  {
   "cell_type": "markdown",
   "id": "d25e84ff",
   "metadata": {},
   "source": [
    "![image](https://miro.medium.com/v2/resize:fit:640/format:webp/1*_ZLmV0IH7_j8eQUrlG76hg.png)"
   ]
  },
  {
   "cell_type": "markdown",
   "id": "13220047",
   "metadata": {},
   "source": [
    "# What is the Graph-Isomorphism Problem\n"
   ]
  },
  {
   "cell_type": "markdown",
   "id": "c7119270",
   "metadata": {},
   "source": [
    "Graphs can exist in many different forms while having the same number of vertices, edges and also the same edge connectivity. These graph are called isomorphic graphs even if they dont look exactly the same they are for example\n",
    "![image](https://www.tutorialspoint.com/graph_theory/images/graphs_are_isomorphic.jpg)"
   ]
  },
  {
   "cell_type": "markdown",
   "id": "256483dc",
   "metadata": {},
   "source": [
    "Isomorphism is the mapping of labels onto the vertices with the equivalent labels and vice versa with the same edges. Graphs are used for representing networks of communication, data organizion, computational devices and the flow of compution. Good graph isomorphism algorithims could help these fields and provide great help to idea."
   ]
  },
  {
   "cell_type": "markdown",
   "id": "6c54380f",
   "metadata": {},
   "source": [
    "So in conclusion when two vertices are connected by an edge and are adjacent isomorphism preserves the adjacency. If two graphs are isomorphic a mapping can be created from one to another a vertex from one graph can be mapped to a vertex in another graph and when thats done it doesn't mess up the adjacency and we have the same edges and relations between the two graphs."
   ]
  },
  {
   "cell_type": "markdown",
   "id": "5c421def",
   "metadata": {},
   "source": [
    "The main problem with the Graph-Isomorphism problem is figuring out what two graphs are isomorphic "
   ]
  },
  {
   "cell_type": "markdown",
   "id": "6ddeda4a",
   "metadata": {},
   "source": [
    "# Polynomial Time and NP-Complete "
   ]
  },
  {
   "cell_type": "markdown",
   "id": "81b252bf",
   "metadata": {},
   "source": [
    "The Graph isomorphism problem is not know to be solved in polynomial time nor NP-coplete therefore it is in the computional complexity class NP-intermediate. This means that answers can be done in P but it also mean that it is not P and currently there is no polynomial-time for solving the and and it is also not NP-complete."
   ]
  },
  {
   "cell_type": "markdown",
   "id": "50e29488",
   "metadata": {},
   "source": [
    "P and Np is basically seeing if every solved problem that can be check by a computer be solved by a computer. The problem part of the graph isomorphism problem comes down to finding out how difficult it is to determine and identify the isomorphism in the graphs with computers. The alogorithms today are not very efficient."
   ]
  },
  {
   "cell_type": "markdown",
   "id": "cc679a36",
   "metadata": {},
   "source": [
    "# Using Graph Isomorphism "
   ]
  },
  {
   "cell_type": "markdown",
   "id": "e6a7df05",
   "metadata": {},
   "source": [
    "For Graphs to be isomorphic these conditions must be satisifed\n",
    "\n",
    "* number of vertices in both graphs must be the same.\n",
    "\n",
    "* Number of edges in both the graphs must be same.\n",
    "\n",
    "* Degree sequence of both the graphs must be same\n",
    "\n",
    "* The length formed by the vertices with equal degree in graph is the same as the other graph \n",
    "\n",
    "* [[4]](https://www.gatevidyalay.com/graph-isomorphism/#:~:text=Graph%20Isomorphism%20Conditions%2D&text=Number%20of%20vertices%20in%20both,the%20graphs%20must%20be%20same.)"
   ]
  },
  {
   "cell_type": "code",
   "execution_count": 9,
   "id": "42ed5586",
   "metadata": {},
   "outputs": [],
   "source": [
    "#import tools used\n",
    "import itertools\n",
    "import numpy as np\n",
    "\n",
    "\n",
    "def get_graph_order(adj_matrix):\n",
    "    if len(adj_matrix) != len(adj_matrix[0]):\n",
    "        return -1\n",
    "    else:\n",
    "        return len(adj_matrix)\n",
    "\n",
    "\n",
    "def get_degree_sequence(adj_matrix):\n",
    "    degree_sequence = []\n",
    "    for vertex in range(len(adj_matrix)):\n",
    "        degree_sequence.append(sum(adj_matrix[vertex]))\n",
    "    degree_sequence.sort(reverse=True)\n",
    "    return degree_sequence\n",
    "\n",
    "\n",
    "def get_all_vertex_permutations(adj_matrix):\n",
    "    if get_graph_order(adj_matrix) > 8:\n",
    "        print(\"This function is too inefficient for graph order > 8\")\n",
    "        return -1\n",
    "    all_adj_matrix = []\n",
    "    idx = list(range(len(adj_matrix)))\n",
    "    possible_idx_combinations = [\n",
    "        list(i) for i in itertools.permutations(idx, len(idx))\n",
    "    ]\n",
    "    for idx_comb in possible_idx_combinations:\n",
    "        a = adj_matrix\n",
    "        a = a[idx_comb]\n",
    "        a = np.transpose(np.transpose(a)[idx_comb])\n",
    "        all_adj_matrix.append({\n",
    "            \"perm_vertex\":\n",
    "            idx_comb,\n",
    "            \"adj_matrix\":\n",
    "            a\n",
    "        })\n",
    "\n",
    "    return all_adj_matrix\n",
    "\n",
    "\n",
    "def brute_force_test_graph_isomporphism(adj_1, adj_2):\n",
    "    degree_sequence_1 = get_degree_sequence(adj_1)\n",
    "    degree_sequence_2 = get_degree_sequence(adj_2)\n",
    "    if get_graph_order(adj_1) != get_graph_order(adj_1):\n",
    "        return False\n",
    "    elif np.array_equal(degree_sequence_1, degree_sequence_2) == False:\n",
    "        return False\n",
    "    else:\n",
    "        for adj_matrix in list(\n",
    "                map(lambda matrix: matrix[\"adj_matrix\"],\n",
    "                    get_all_vertex_permutations(adj_2))):\n",
    "            if np.array_equal(adj_1, adj_matrix) == True:\n",
    "                return True\n",
    "    return False"
   ]
  },
  {
   "cell_type": "markdown",
   "id": "f7701acb",
   "metadata": {},
   "source": [
    "[[5]](https://tonicanada.medium.com/brute-force-code-for-isomorphisms-1241ef180570)\n",
    "\n",
    "The code above check to see if the order of both graphs are isomorphic using their matrices if thats not the case the graphs are not isomorphic. the code above isnt effiecient and is a brute force way of doing it."
   ]
  },
  {
   "cell_type": "markdown",
   "id": "df6ea407",
   "metadata": {},
   "source": [
    "# How to check if two graphs are Isomorphic"
   ]
  },
  {
   "cell_type": "code",
   "execution_count": 11,
   "id": "d575ccab",
   "metadata": {},
   "outputs": [
    {
     "name": "stdout",
     "output_type": "stream",
     "text": [
      "The two graphs are not isomorphic.\n"
     ]
    }
   ],
   "source": [
    "import networkx as nx\n",
    "\n",
    "# Define two example graphs\n",
    "graph1 = nx.Graph([(1, 2), (2, 3), (3, 1)])\n",
    "graph2 = nx.Graph([(1, 2), (2, 3), (3, 4), (4, 1)])\n",
    "\n",
    "# Check if the two graphs are isomorphic\n",
    "isomorphic = nx.is_isomorphic(graph1, graph2)\n",
    "\n",
    "# Print the result\n",
    "if isomorphic:\n",
    "    print(\"The two graphs are isomorphic.\")\n",
    "else:\n",
    "    print(\"The two graphs are not isomorphic.\")"
   ]
  },
  {
   "cell_type": "markdown",
   "id": "508794b9",
   "metadata": {},
   "source": []
  },
  {
   "cell_type": "markdown",
   "id": "687195e0",
   "metadata": {},
   "source": [
    "# Conclusion\n",
    "\n",
    "In conclusion the brute force ways of the Graph Isomorphic algorithms make them not efficient, timely and costly. If the graph-Isomorphism problem was to be solved it would greatly help in things like computer vision, pattern recognition and graph matching."
   ]
  },
  {
   "cell_type": "markdown",
   "id": "19c0d6e7",
   "metadata": {},
   "source": [
    "## References\n",
    "\n",
    "What is graph Theory https://www.masterclass.com/articles/graph-theory.\n",
    "[[1]](https://www.masterclass.com/articles/graph-theory)\n",
    "\n",
    "Vertex https://www.splashlearn.com/math-vocabulary/geometry/vertex#:~:text=Vertex%20is%20a%20point%20on,of%20a%20vertex%20is%20vertices. [[2]](https://www.splashlearn.com/math-vocabulary/geometry/vertex#:~:text=Vertex%20is%20a%20point%20on,of%20a%20vertex%20is%20vertices.)\n",
    "\n",
    "Edges https://mathinsight.org/definition/network_edge#:~:text=An%20edge%20(or%20link)%20of,in%20the%20first%20figure%20below.[[3]](https://mathinsight.org/definition/network_edge#:~:text=An%20edge%20(or%20link)%20of,in%20the%20first%20figure%20below.)\n",
    "\n",
    "Graph isomorphic condition https://www.gatevidyalay.com/graph-isomorphism/#:~:text=Graph%20Isomorphism%20Conditions%2D&text=Number%20of%20vertices%20in%20both,the%20graphs%20must%20be%20same. [[4]](https://www.gatevidyalay.com/graph-isomorphism/#:~:text=Graph%20Isomorphism%20Conditions%2D&text=Number%20of%20vertices%20in%20both,the%20graphs%20must%20be%20same.)\n",
    "\n",
    "Brute force Graph isomorphism https://tonicanada.medium.com/brute-force-code-for-isomorphisms-1241ef180570 [[5]](https://tonicanada.medium.com/brute-force-code-for-isomorphisms-1241ef180570)\n",
    "\n",
    "Graph-Isomorphism problem  https://en.wikipedia.org/wiki/Graph_isomorphism_problem [[6]](https://en.wikipedia.org/wiki/Graph_isomorphism_problem)\n",
    "\n",
    "Graph theory Isomorphism https://www.tutorialspoint.com/graph_theory/graph_theory_isomorphism.htm [[7]](https://www.tutorialspoint.com/graph_theory/graph_theory_isomorphism.htm)\n",
    "\n",
    "Graph isomorphic connections https://www.geeksforgeeks.org/mathematics-graph-isomorphisms-connectivity/[[8]](https://www.geeksforgeeks.org/mathematics-graph-isomorphisms-connectivity/)\n",
    "\n",
    "Graph Isomorphism https://en.wikipedia.org/wiki/Graph_isomorphism#:~:text=Isomorphism%20of%20labeled%20graphs,-For%20labeled%20graphs&text=Under%20another%20definition%2C%20an%20isomorphism,versa%3B%20same%20with%20edge%20labels.[[9]](https://en.wikipedia.org/wiki/Graph_isomorphism#:~:text=Isomorphism%20of%20labeled%20graphs,-For%20labeled%20graphs&text=Under%20another%20definition%2C%20an%20isomorphism,versa%3B%20same%20with%20edge%20labels.)\n",
    "\n",
    "Np-Intermediate https://en.wikipedia.org/wiki/NP-intermediate[[10]](https://en.wikipedia.org/wiki/NP-intermediate)\n",
    "\n",
    "The graph Isomorphism Problem https://books.google.ie/books?hl=en&lr=&id=vhvnBwAAQBAJ&oi=fnd&pg=PA1&dq=graph+isomorphism+problem&ots=OEuQo_-_Ex&sig=bmiub0Q9M9Z0bwKkSYPLluXBSrg&redir_esc=y#v=onepage&q=graph%20isomorphism%20problem&f=false [[11]](https://books.google.ie/books?hl=en&lr=&id=vhvnBwAAQBAJ&oi=fnd&pg=PA1&dq=graph+isomorphism+problem&ots=OEuQo_-_Ex&sig=bmiub0Q9M9Z0bwKkSYPLluXBSrg&redir_esc=y#v=onepage&q=graph%20isomorphism%20problem&f=false)\n",
    "\n",
    "Adjacency Matrix https://en.wikipedia.org/wiki/Adjacency_matrix#:~:text=In%20graph%20theory%20and%20computer,with%20zeros%20on%20its%20diagonal. [[12]](https://en.wikipedia.org/wiki/Adjacency_matrix#:~:text=In%20graph%20theory%20and%20computer,with%20zeros%20on%20its%20diagonal.)"
   ]
  }
 ],
 "metadata": {
  "kernelspec": {
   "display_name": "Python 3 (ipykernel)",
   "language": "python",
   "name": "python3"
  },
  "language_info": {
   "codemirror_mode": {
    "name": "ipython",
    "version": 3
   },
   "file_extension": ".py",
   "mimetype": "text/x-python",
   "name": "python",
   "nbconvert_exporter": "python",
   "pygments_lexer": "ipython3",
   "version": "3.10.5"
  }
 },
 "nbformat": 4,
 "nbformat_minor": 5
}
