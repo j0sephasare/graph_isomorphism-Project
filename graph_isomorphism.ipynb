{
 "cells": [
  {
   "cell_type": "markdown",
   "id": "f6661cf1",
   "metadata": {},
   "source": [
    "# Introduction To The Graph Isomorphism Problem"
   ]
  },
  {
   "cell_type": "markdown",
   "id": "56eb3018",
   "metadata": {},
   "source": [
    "___________________________________________________________________________"
   ]
  },
  {
   "cell_type": "markdown",
   "id": "08fef5e0",
   "metadata": {},
   "source": [
    "\n",
    "The graph-isomorphism problem is the way to determine if two finite graphs are isomorphic. But before I get into details about that I must talk about what these terms mean in graph theory in relation to the graph-isomorphism problem."
   ]
  },
  {
   "cell_type": "markdown",
   "id": "f36f6736",
   "metadata": {},
   "source": [
    "* Graph Theory: The term Graphy Theory is a branch of mathematetics that is used for visualizing data and relationships between objects. This is shown by visualizing endpoints also know as vertices or nodes connected to each other via edges. A graph consists of lines and points between them the length of the lines do not matter and each object in a graph is called a node. \n",
    "[[1]](https://www.masterclass.com/articles/graph-theory)"
   ]
  },
  {
   "cell_type": "markdown",
   "id": "7312a252",
   "metadata": {},
   "source": [
    "* Vertex: Nodes can also be called a vertex which is shown on a graph as a point. The plural of Vertex is Virtices \n",
    "[[2]](https://www.splashlearn.com/math-vocabulary/geometry/vertex#:~:text=Vertex%20is%20a%20point%20on,of%20a%20vertex%20is%20vertices.)"
   ]
  },
  {
   "cell_type": "markdown",
   "id": "7859c2a0",
   "metadata": {},
   "source": [
    "* Edges: Edges are a connection between the nodes or vertices of said object [[3]](https://mathinsight.org/definition/network_edge#:~:text=An%20edge%20(or%20link)%20of,in%20the%20first%20figure%20below.)"
   ]
  },
  {
   "cell_type": "markdown",
   "id": "ca597c65",
   "metadata": {},
   "source": [
    "### Diagram of graph showing 5 vertices and 7 edges"
   ]
  },
  {
   "cell_type": "markdown",
   "id": "d25e84ff",
   "metadata": {},
   "source": [
    "![image](https://miro.medium.com/v2/resize:fit:640/format:webp/1*_ZLmV0IH7_j8eQUrlG76hg.png)"
   ]
  },
  {
   "cell_type": "markdown",
   "id": "19c0d6e7",
   "metadata": {},
   "source": [
    "## References\n",
    "\n",
    "What is graph Theory https://www.masterclass.com/articles/graph-theory.\n",
    "[[1]](https://www.masterclass.com/articles/graph-theory)\n",
    "\n",
    "Vertex https://www.splashlearn.com/math-vocabulary/geometry/vertex#:~:text=Vertex%20is%20a%20point%20on,of%20a%20vertex%20is%20vertices. [[2]](https://www.splashlearn.com/math-vocabulary/geometry/vertex#:~:text=Vertex%20is%20a%20point%20on,of%20a%20vertex%20is%20vertices.)\n",
    "\n",
    "Edges https://mathinsight.org/definition/network_edge#:~:text=An%20edge%20(or%20link)%20of,in%20the%20first%20figure%20below.[[3]](https://mathinsight.org/definition/network_edge#:~:text=An%20edge%20(or%20link)%20of,in%20the%20first%20figure%20below.)"
   ]
  }
 ],
 "metadata": {
  "kernelspec": {
   "display_name": "Python 3 (ipykernel)",
   "language": "python",
   "name": "python3"
  },
  "language_info": {
   "codemirror_mode": {
    "name": "ipython",
    "version": 3
   },
   "file_extension": ".py",
   "mimetype": "text/x-python",
   "name": "python",
   "nbconvert_exporter": "python",
   "pygments_lexer": "ipython3",
   "version": "3.9.7"
  }
 },
 "nbformat": 4,
 "nbformat_minor": 5
}
